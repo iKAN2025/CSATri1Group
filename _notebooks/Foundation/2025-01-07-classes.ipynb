{
 "cells": [
  {
   "cell_type": "markdown",
   "metadata": {},
   "source": [
    "---\n",
    "layout: post\n",
    "title:  Classes\n",
    "description:  Team Teach for Classes\n",
    "courses: { csse: {week: 1}, csp: {week: 1}, csa: {week: 1} }\n",
    "menu: nav/inheritance.html\n",
    "permalink: /inheritance\n",
    "type: collab\n",
    "comments: true\n",
    "sticky_rank: 1\n",
    "toc: false\n",
    "---"
   ]
  },
  {
   "cell_type": "markdown",
   "metadata": {},
   "source": [
    "# FRQ Team Teach Classes introduction and prompt (bella)\n",
    "\n",
    "\n"
   ]
  },
  {
   "cell_type": "markdown",
   "metadata": {},
   "source": [
    "z"
   ]
  },
  {
   "cell_type": "markdown",
   "metadata": {},
   "source": [
    "# Add introduction to classes we need based on prompt (bella)"
   ]
  },
  {
   "cell_type": "code",
   "execution_count": null,
   "metadata": {
    "vscode": {
     "languageId": "plaintext"
    }
   },
   "outputs": [],
   "source": []
  },
  {
   "cell_type": "markdown",
   "metadata": {},
   "source": [
    "# Start Making Sign Class Popcorn Hack (constructor?) (trystan)"
   ]
  },
  {
   "cell_type": "markdown",
   "metadata": {},
   "source": [
    "# Adding Methods Names/Todo + Popcorn Hack (constructor) (trystan)"
   ]
  },
  {
   "cell_type": "markdown",
   "metadata": {},
   "source": [
    "# Conclusion   (Jason)"
   ]
  },
  {
   "cell_type": "code",
   "execution_count": null,
   "metadata": {
    "vscode": {
     "languageId": "plaintext"
    }
   },
   "outputs": [],
   "source": []
  },
  {
   "cell_type": "markdown",
   "metadata": {},
   "source": [
    "# **Homework!** (Jason)\n",
    "### 2017 FRQ, Question 2 - Classes\n",
    "\n",
    "![2017 FRQ, Question 2, Classes](https://i.ibb.co/VJc29TM/Screenshot-2025-01-07-at-12-39-08-PM.png)\n",
    "\n",
    "![Example 1](https://i.ibb.co/NpF8v72/Screenshot-2025-01-07-at-12-43-04-PM.png)\n",
    "\n",
    "![Example 2](https://i.ibb.co/pW4jVSX/Screenshot-2025-01-07-at-12-43-20-PM.png)\n",
    "\n",
    "![Final](https://i.ibb.co/vYTv7cX/Screenshot-2025-01-07-at-12-44-12-PM.png)\n"
   ]
  }
 ],
 "metadata": {
  "language_info": {
   "name": "python"
  }
 },
 "nbformat": 4,
 "nbformat_minor": 2
}
