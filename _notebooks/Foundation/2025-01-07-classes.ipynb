{
 "cells": [
  {
   "cell_type": "markdown",
   "metadata": {},
   "source": [
    "---\n",
    "layout: post\n",
    "title:  Classes\n",
    "description:  Team Teach for Classes\n",
    "courses: { csse: {week: 1}, csp: {week: 1}, csa: {week: 1} }\n",
    "permalink: /classes\n",
    "type: collab\n",
    "comments: true\n",
    "sticky_rank: 1\n",
    "toc: false\n",
    "---"
   ]
  },
  {
   "cell_type": "markdown",
   "metadata": {},
   "source": [
    "## **Introduction**\n",
    "\n",
    "The AP Computer Science A exam includes four main types of Free Response Questions (FRQs):  \n",
    "\n",
    "- **Methods and Control Structures**  \n",
    "- **Class**  \n",
    "- **Array/ArrayList**  \n",
    "- **2D Array**  \n",
    "\n",
    "Today, our focus is on the **Classes FRQ**, which tests your understanding of **object-oriented programming (OOP)** concepts. This includes:  \n",
    "- Creating and manipulating **classes**  \n",
    "- Writing **constructors**  \n",
    "- Managing **instance variables**  \n",
    "- Implementing **methods**  \n",
    "- Understanding how objects **interact** in Java  \n",
    "\n"
   ]
  },
  {
   "cell_type": "markdown",
   "metadata": {},
   "source": [
    "## **Key Concepts**\n",
    "\n",
    "1. **Instance Variables**  \n",
    "   - Attributes of an object (e.g., `name`, `age`).  \n",
    "\n",
    "2. **Constructors**  \n",
    "   - Initialize objects and set instance variables.\n",
    "\n",
    "3. **Methods**  \n",
    "   - **Getters/Setters:** Access and alter instance variables.  \n",
    "   - Perform actions or computations related to the object.\n",
    "\n",
    "5. **Object Interaction**  \n",
    "   - Objects interact by calling methods\n",
    "---"
   ]
  },
  {
   "cell_type": "markdown",
   "metadata": {},
   "source": [
    "## Prompt:\n",
    "\n",
    "[Prompt]({{site.baseurl}}/images/signs.png)"
   ]
  },
  {
   "cell_type": "markdown",
   "metadata": {},
   "source": [
    "# Start Making Sign Class Popcorn Hack (constructor?) (trystan)"
   ]
  },
  {
   "cell_type": "markdown",
   "metadata": {},
   "source": [
    "# Adding Methods Names/Todo + Popcorn Hack (constructor) (trystan)"
   ]
  },
  {
   "cell_type": "markdown",
   "metadata": {},
   "source": [
    "# Conclusion   (Jason)"
   ]
  },
  {
   "cell_type": "code",
   "execution_count": null,
   "metadata": {
    "vscode": {
     "languageId": "plaintext"
    }
   },
   "outputs": [],
   "source": []
  },
  {
   "cell_type": "markdown",
   "metadata": {},
   "source": [
    "# **Homework!** (Jason)\n",
    "### 2017 FRQ, Question 2 - Classes\n",
    "\n",
    "![2017 FRQ, Question 2, Classes](https://i.ibb.co/VJc29TM/Screenshot-2025-01-07-at-12-39-08-PM.png)\n",
    "\n",
    "![Example 1](https://i.ibb.co/NpF8v72/Screenshot-2025-01-07-at-12-43-04-PM.png)\n",
    "\n",
    "![Example 2](https://i.ibb.co/pW4jVSX/Screenshot-2025-01-07-at-12-43-20-PM.png)\n",
    "\n",
    "![Final](https://i.ibb.co/vYTv7cX/Screenshot-2025-01-07-at-12-44-12-PM.png)\n"
   ]
  }
 ],
 "metadata": {
  "language_info": {
   "name": "python"
  }
 },
 "nbformat": 4,
 "nbformat_minor": 2
}
